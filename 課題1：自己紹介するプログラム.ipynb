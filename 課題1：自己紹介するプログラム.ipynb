{
 "cells": [
  {
   "cell_type": "markdown",
   "id": "79e717f0",
   "metadata": {},
   "source": [
    "### 課題1：自己紹介するプログラム"
   ]
  },
  {
   "cell_type": "code",
   "execution_count": 10,
   "id": "8c3daf26",
   "metadata": {},
   "outputs": [
    {
     "name": "stdout",
     "output_type": "stream",
     "text": [
      "名前：shunki\n",
      "年齢：32\n",
      "私の名前はshunkiです。来年で33歳になります。\n"
     ]
    }
   ],
   "source": [
    "name = input(\"名前を入力してください：\")\n",
    "print(f\"名前：{name}\")\n",
    "while True:\n",
    "    age_input = input(\"現在の年齢を入力してください：\")\n",
    "    if not age_input.strip():\n",
    "        print(\"⚠️入力が空です。年齢を入力してください。\")\n",
    "        continue\n",
    "    try:\n",
    "        age = int(age_input)\n",
    "        if age < 0:\n",
    "            print(\"⚠️年齢は0以上で入力してください。\")\n",
    "            continue\n",
    "        break\n",
    "    except ValueError:\n",
    "        print(\"⚠️数字で年齢を入力してください。\")\n",
    "print(f\"年齢：{age}\")\n",
    "next_age = age + 1\n",
    "print(f\"私の名前は{name}です。来年で{next_age}歳になります。\")"
   ]
  }
 ],
 "metadata": {
  "kernelspec": {
   "display_name": ".venv (3.9.6)",
   "language": "python",
   "name": "python3"
  },
  "language_info": {
   "codemirror_mode": {
    "name": "ipython",
    "version": 3
   },
   "file_extension": ".py",
   "mimetype": "text/x-python",
   "name": "python",
   "nbconvert_exporter": "python",
   "pygments_lexer": "ipython3",
   "version": "3.9.6"
  }
 },
 "nbformat": 4,
 "nbformat_minor": 5
}
