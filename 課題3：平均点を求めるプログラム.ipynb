{
 "cells": [
  {
   "cell_type": "markdown",
   "id": "04acce1e",
   "metadata": {},
   "source": [
    "### 課題3：平均点を求めるプログラム"
   ]
  },
  {
   "cell_type": "code",
   "execution_count": 5,
   "id": "9dd008b9",
   "metadata": {},
   "outputs": [
    {
     "name": "stdout",
     "output_type": "stream",
     "text": [
      "1人目：100点\n",
      "2人目：50点\n",
      "3人目：0点\n",
      "3人のテストの平均点は50.0点です\n"
     ]
    }
   ],
   "source": [
    "num_people = 0\n",
    "total = 0\n",
    "while True:\n",
    "    input_score = input(\"点数を入力してください：\")\n",
    "    if not input_score.strip():\n",
    "        print(\"⚠️入力が空です。\")\n",
    "        continue\n",
    "    try:\n",
    "        score = int(input_score)\n",
    "        if score == -1:\n",
    "            break\n",
    "\n",
    "        if score < 0:\n",
    "            print(\"⚠️点数は0以上で入力してください。\")\n",
    "            continue\n",
    "\n",
    "        total += score\n",
    "        num_people += 1\n",
    "\n",
    "        print(f\"{num_people}人目：{score}点\")\n",
    "        \n",
    "        continue\n",
    "    except ValueError:\n",
    "        print(\"⚠️数字を入力してください。\")\n",
    "\n",
    "average = total / num_people\n",
    "print(f\"{num_people}人のテストの平均点は{average}点です\")"
   ]
  }
 ],
 "metadata": {
  "kernelspec": {
   "display_name": ".venv (3.9.6)",
   "language": "python",
   "name": "python3"
  },
  "language_info": {
   "codemirror_mode": {
    "name": "ipython",
    "version": 3
   },
   "file_extension": ".py",
   "mimetype": "text/x-python",
   "name": "python",
   "nbconvert_exporter": "python",
   "pygments_lexer": "ipython3",
   "version": "3.9.6"
  }
 },
 "nbformat": 4,
 "nbformat_minor": 5
}
