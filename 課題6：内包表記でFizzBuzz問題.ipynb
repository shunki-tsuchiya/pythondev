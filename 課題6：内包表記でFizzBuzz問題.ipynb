{
 "cells": [
  {
   "cell_type": "markdown",
   "id": "f2a9f839",
   "metadata": {},
   "source": [
    "### 内包表記でFizzBuzz問題"
   ]
  },
  {
   "cell_type": "code",
   "execution_count": null,
   "id": "9caa12fe",
   "metadata": {},
   "outputs": [],
   "source": [
    "def fizz_buzz(i):\n",
    "    if i % 3 ==0 and i % 5 ==0:\n",
    "        return \"FizzBuzz\"\n",
    "    elif i % 3 ==0:\n",
    "        return \"Fizz\"\n",
    "    elif i % 5 ==0:\n",
    "        return \"Buzz\"\n",
    "    else:\n",
    "        return str(i)\n",
    "\n",
    "fizz_buzz_list = [fizz_buzz(i) for i in range(1,101)]\n",
    "print(fizz_buzz_list)"
   ]
  }
 ],
 "metadata": {
  "kernelspec": {
   "display_name": ".venv (3.9.6)",
   "language": "python",
   "name": "python3"
  },
  "language_info": {
   "name": "python",
   "version": "3.9.6"
  }
 },
 "nbformat": 4,
 "nbformat_minor": 5
}
