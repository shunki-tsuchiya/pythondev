{
 "cells": [
  {
   "cell_type": "markdown",
   "id": "82c94ff0",
   "metadata": {},
   "source": [
    "### 再起的な関数でのフィボナッチ数列"
   ]
  },
  {
   "cell_type": "code",
   "execution_count": 19,
   "id": "fd0f7f47",
   "metadata": {},
   "outputs": [
    {
     "name": "stdout",
     "output_type": "stream",
     "text": [
      "10番目の数値\n",
      "55\n"
     ]
    }
   ],
   "source": [
    "from prognum import fibonacci\n",
    "\n",
    "input_num = input(\"何番目の数値を求めますか？\")\n",
    "print(f\"{input_num}番目の数値\")\n",
    "print(fibonacci(int(input_num)))\n"
   ]
  }
 ],
 "metadata": {
  "kernelspec": {
   "display_name": ".venv (3.9.6)",
   "language": "python",
   "name": "python3"
  },
  "language_info": {
   "codemirror_mode": {
    "name": "ipython",
    "version": 3
   },
   "file_extension": ".py",
   "mimetype": "text/x-python",
   "name": "python",
   "nbconvert_exporter": "python",
   "pygments_lexer": "ipython3",
   "version": "3.9.6"
  }
 },
 "nbformat": 4,
 "nbformat_minor": 5
}
