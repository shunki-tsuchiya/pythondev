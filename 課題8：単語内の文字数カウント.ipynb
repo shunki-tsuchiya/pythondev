{
 "cells": [
  {
   "cell_type": "markdown",
   "id": "4e6e2fc7",
   "metadata": {},
   "source": [
    "### 単語内の文字数をカウント"
   ]
  },
  {
   "cell_type": "code",
   "execution_count": 23,
   "id": "2be4d300",
   "metadata": {},
   "outputs": [
    {
     "name": "stdout",
     "output_type": "stream",
     "text": [
      "dog\n",
      "cat\n",
      "giraffe\n",
      "kangaroo\n",
      "horse\n",
      "bear\n",
      "入力した英単語：['dog', 'cat', 'giraffe', 'kangaroo', 'horse', 'bear']\n",
      "aが5個ありました\n",
      "bが1個ありました\n",
      "cが1個ありました\n",
      "dが1個ありました\n",
      "eが3個ありました\n",
      "fが2個ありました\n",
      "gが3個ありました\n",
      "hが1個ありました\n",
      "iが1個ありました\n",
      "kが1個ありました\n",
      "nが1個ありました\n",
      "oが4個ありました\n",
      "rが4個ありました\n",
      "sが1個ありました\n",
      "tが1個ありました\n"
     ]
    }
   ],
   "source": [
    "import re\n",
    "\n",
    "word_list = list()\n",
    "alph_dict = dict.fromkeys(\"abcdefghijklmnopqrstuvwxyz\", 0)\n",
    "\n",
    "while True:\n",
    "    input_word = input(\"英単語を入力してください。\")\n",
    "\n",
    "    if not input_word.strip():\n",
    "        break\n",
    "\n",
    "    if not re.fullmatch(r\"[a-z]+\", input_word):\n",
    "        print(\"エラー：英単語はアルファベット（小文字）のみで入力してください。\")\n",
    "        continue\n",
    "\n",
    "    print(input_word)\n",
    "    \n",
    "    for i in list(input_word):\n",
    "        alph_dict[i] += 1\n",
    "\n",
    "    word_list.append(input_word)    \n",
    "\n",
    "print(f\"入力した英単語：{word_list}\")\n",
    "alph_dict\n",
    "for key, value in alph_dict.items():\n",
    "    if value > 0:\n",
    "        print(f\"{key}が{value}個ありました\")"
   ]
  }
 ],
 "metadata": {
  "kernelspec": {
   "display_name": ".venv (3.9.6)",
   "language": "python",
   "name": "python3"
  },
  "language_info": {
   "codemirror_mode": {
    "name": "ipython",
    "version": 3
   },
   "file_extension": ".py",
   "mimetype": "text/x-python",
   "name": "python",
   "nbconvert_exporter": "python",
   "pygments_lexer": "ipython3",
   "version": "3.9.6"
  }
 },
 "nbformat": 4,
 "nbformat_minor": 5
}
