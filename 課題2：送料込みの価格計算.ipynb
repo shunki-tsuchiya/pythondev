{
 "cells": [
  {
   "cell_type": "markdown",
   "id": "19e7f283",
   "metadata": {},
   "source": [
    "### 課題2: 送料込みの価格計算"
   ]
  },
  {
   "cell_type": "code",
   "execution_count": null,
   "id": "137da9c7",
   "metadata": {},
   "outputs": [
    {
     "name": "stdout",
     "output_type": "stream",
     "text": [
      "税抜価格：500\n",
      "送料として350円かかります。\n",
      "送料込みの価格は900円です。\n"
     ]
    }
   ],
   "source": [
    "while True:\n",
    "    input_price_excl_tax = input(\"税抜価格を入力してください：\")\n",
    "    if not input_price_excl_tax.strip():\n",
    "        print(\"⚠️入力が空です。税抜を入力してください。\")\n",
    "        continue\n",
    "    try:\n",
    "        price_excl_tax = int(input_price_excl_tax)\n",
    "        if price_excl_tax < 0:\n",
    "            print(\"⚠️税抜価格は0以上で入力してください。\")\n",
    "            continue\n",
    "        break\n",
    "    except ValueError:\n",
    "        print(\"⚠️数字を入力してください。\")\n",
    "\n",
    "print(f\"税抜価格：{price_excl_tax}\")\n",
    "\n",
    "tax_rate = 0.1\n",
    "price_inc_tax = int(round(price_excl_tax + price_excl_tax * tax_rate))\n",
    "\n",
    "shipping_fee = 350\n",
    "if price_inc_tax >= 2000:\n",
    "    print(\"送料は無料です。\")\n",
    "    print(f\"送料込みの価格は{price_inc_tax}円です。\")\n",
    "else:\n",
    "    print(f\"送料として{shipping_fee}円かかります。\")\n",
    "    print(f\"送料込みの価格は{price_inc_tax + shipping_fee}円です。\")\n",
    "\n"
   ]
  }
 ],
 "metadata": {
  "kernelspec": {
   "display_name": ".venv (3.9.6)",
   "language": "python",
   "name": "python3"
  },
  "language_info": {
   "codemirror_mode": {
    "name": "ipython",
    "version": 3
   },
   "file_extension": ".py",
   "mimetype": "text/x-python",
   "name": "python",
   "nbconvert_exporter": "python",
   "pygments_lexer": "ipython3",
   "version": "3.9.6"
  }
 },
 "nbformat": 4,
 "nbformat_minor": 5
}
